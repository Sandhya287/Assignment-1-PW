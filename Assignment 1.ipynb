{
 "cells": [
  {
   "cell_type": "code",
   "execution_count": 2,
   "id": "f5c38672-8e96-4673-b7db-f65a58ab3804",
   "metadata": {},
   "outputs": [
    {
     "name": "stdout",
     "output_type": "stream",
     "text": [
      "String: Hello, world!\n",
      "List: [1, 2, 3, 4, 5]\n",
      "Float: 3.14\n",
      "Tuple: (10, 20, 30)\n"
     ]
    }
   ],
   "source": [
    "\n",
    "\n",
    "# Q1. Create one variable containing following type of data:\n",
    "\n",
    "\n",
    "# (i) Creating a string variable\n",
    "my_string = \"Hello, world!\"\n",
    "\n",
    "# (ii) Creating a list variable\n",
    "my_list = [1, 2, 3, 4, 5]\n",
    "\n",
    "# (iii) Creating a float variable\n",
    "my_float = 3.14\n",
    "\n",
    "# (iv) Creating a tuple variable\n",
    "my_tuple = (10, 20, 30)\n",
    "\n",
    "# Printing the values of the variables\n",
    "print(\"String:\", my_string)\n",
    "print(\"List:\", my_list)\n",
    "print(\"Float:\", my_float)\n",
    "print(\"Tuple:\", my_tuple)\n"
   ]
  },
  {
   "cell_type": "code",
   "execution_count": null,
   "id": "0e8d1451-9174-4899-9a77-3c5ea731c841",
   "metadata": {},
   "outputs": [],
   "source": [
    "# Q2.\n",
    "\n",
    "The data types of the given variables are as follows:\n",
    "\n",
    "(i) var1 = ‘ ‘\n",
    "Data Type: String\n",
    "\n",
    "(ii) var2 = ‘[ DS , ML , Python]’\n",
    "Data Type: String\n",
    "\n",
    "(iii) var3 = [ ‘DS’ , ’ML’ , ‘Python’ ]\n",
    "Data Type: List of Strings\n",
    "\n",
    "(iv) var4 = 1.\n",
    "Data Type: Float\n"
   ]
  },
  {
   "cell_type": "code",
   "execution_count": 4,
   "id": "c4c9c4ea-62a6-4ee6-8404-9315ee9dc4ac",
   "metadata": {},
   "outputs": [
    {
     "name": "stdout",
     "output_type": "stream",
     "text": [
      "3.3333333333333335\n"
     ]
    }
   ],
   "source": [
    "# Q3. Explain the use of the following operators using an example:\n",
    "\n",
    "\n",
    "\n",
    "\n",
    "# Division\n",
    "result = 10 / 3\n",
    "print(result)  \n"
   ]
  },
  {
   "cell_type": "code",
   "execution_count": 5,
   "id": "8fd6e681-214a-492d-9fc2-d547e0f7419d",
   "metadata": {},
   "outputs": [
    {
     "name": "stdout",
     "output_type": "stream",
     "text": [
      "1\n"
     ]
    }
   ],
   "source": [
    " # Modulo (Remainder)\n",
    "remainder = 10 % 3\n",
    "print(remainder)  \n"
   ]
  },
  {
   "cell_type": "code",
   "execution_count": 6,
   "id": "9da542e5-9c72-461d-b5bf-4b998bb153ed",
   "metadata": {},
   "outputs": [
    {
     "name": "stdout",
     "output_type": "stream",
     "text": [
      "3\n"
     ]
    }
   ],
   "source": [
    "# Floor Division\n",
    "result = 10 // 3\n",
    "print(result)  \n"
   ]
  },
  {
   "cell_type": "code",
   "execution_count": 7,
   "id": "bd7061fd-bc12-4b6f-bda8-30fb3591033d",
   "metadata": {},
   "outputs": [
    {
     "name": "stdout",
     "output_type": "stream",
     "text": [
      "8\n"
     ]
    }
   ],
   "source": [
    "# Exponentiation\n",
    "result = 2 ** 3\n",
    "print(result)  \n"
   ]
  },
  {
   "cell_type": "code",
   "execution_count": 8,
   "id": "8bf52457-7ab6-4b62-b840-a52803d49334",
   "metadata": {},
   "outputs": [
    {
     "name": "stdout",
     "output_type": "stream",
     "text": [
      "Element: 42\n",
      "Data Type: <class 'int'>\n",
      "Element: Hello\n",
      "Data Type: <class 'str'>\n",
      "Element: 3.14\n",
      "Data Type: <class 'float'>\n",
      "Element: True\n",
      "Data Type: <class 'bool'>\n",
      "Element: [1, 2, 3]\n",
      "Data Type: <class 'list'>\n",
      "Element: (10, 20)\n",
      "Data Type: <class 'tuple'>\n",
      "Element: {'name': 'Alice', 'age': 30}\n",
      "Data Type: <class 'dict'>\n",
      "Element: None\n",
      "Data Type: <class 'NoneType'>\n",
      "Element: Python\n",
      "Data Type: <class 'str'>\n",
      "Element: False\n",
      "Data Type: <class 'bool'>\n"
     ]
    }
   ],
   "source": [
    "# Q4.\n",
    "\n",
    "\n",
    "\n",
    "\n",
    "\n",
    "# Creating a list with various types of data\n",
    "my_list = [42, \"Hello\", 3.14, True, [1, 2, 3], (10, 20), {\"name\": \"Alice\", \"age\": 30}, None, \"Python\", False]\n",
    "\n",
    "# Using a for loop to print each element and its data type\n",
    "for item in my_list:\n",
    "    print(\"Element:\", item)\n",
    "    print(\"Data Type:\", type(item))\n",
    "    \n"
   ]
  },
  {
   "cell_type": "code",
   "execution_count": 9,
   "id": "1454ee52-6569-47f1-a786-e54c0d2e86ff",
   "metadata": {},
   "outputs": [
    {
     "name": "stdin",
     "output_type": "stream",
     "text": [
      "Enter number A:  30\n",
      "Enter number B:  6\n"
     ]
    },
    {
     "name": "stdout",
     "output_type": "stream",
     "text": [
      "5 times: 5 * 6 = 30\n"
     ]
    }
   ],
   "source": [
    "# Q5.\n",
    "\n",
    "\n",
    "# Taking input for numbers A and B\n",
    "A = int(input(\"Enter number A: \"))\n",
    "B = int(input(\"Enter number B: \"))\n",
    "\n",
    "# Initializing a counter to keep track of divisions\n",
    "divisions = 0\n",
    "\n",
    "# Verifying if A is divisible by B\n",
    "while A >= B:\n",
    "    A -= B  # Subtract B from A\n",
    "    divisions += 1  # Increment the counter\n",
    "\n",
    "if divisions > 0:\n",
    "    print(f\"{divisions} times: {divisions} * {B} = {divisions * B}\")\n",
    "else:\n",
    "    print(f\"{B} does not divide {A} evenly.\")\n"
   ]
  },
  {
   "cell_type": "code",
   "execution_count": 10,
   "id": "cb5152af-7d01-47be-beee-9fffbfa81aa1",
   "metadata": {},
   "outputs": [
    {
     "name": "stdout",
     "output_type": "stream",
     "text": [
      "15 is divisible by 3\n",
      "7 is not divisible by 3\n",
      "9 is divisible by 3\n",
      "12 is divisible by 3\n",
      "22 is not divisible by 3\n",
      "30 is divisible by 3\n",
      "18 is divisible by 3\n",
      "5 is not divisible by 3\n",
      "6 is divisible by 3\n",
      "25 is not divisible by 3\n",
      "21 is divisible by 3\n",
      "8 is not divisible by 3\n",
      "42 is divisible by 3\n",
      "11 is not divisible by 3\n",
      "27 is divisible by 3\n",
      "33 is divisible by 3\n",
      "16 is not divisible by 3\n",
      "3 is divisible by 3\n",
      "14 is not divisible by 3\n",
      "19 is not divisible by 3\n",
      "24 is divisible by 3\n",
      "10 is not divisible by 3\n",
      "36 is divisible by 3\n",
      "29 is not divisible by 3\n",
      "4 is not divisible by 3\n"
     ]
    }
   ],
   "source": [
    "# Q6.\n",
    "\n",
    "\n",
    "# Creating a list of 25 integers\n",
    "my_list = [15, 7, 9, 12, 22, 30, 18, 5, 6, 25, 21, 8, 42, 11, 27, 33, 16, 3, 14, 19, 24, 10, 36, 29, 4]\n",
    "\n",
    "# Using a for loop to check divisibility by 3\n",
    "for num in my_list:\n",
    "    if num % 3 == 0:\n",
    "        print(f\"{num} is divisible by 3\")\n",
    "    else:\n",
    "        print(f\"{num} is not divisible by 3\")\n"
   ]
  },
  {
   "cell_type": "code",
   "execution_count": null,
   "id": "052a276d-8f47-4c10-b3f3-20a016317df0",
   "metadata": {},
   "outputs": [],
   "source": [
    "# Q7. \n",
    "\n",
    "\n",
    "\n",
    "Immutable Data Types:\n",
    "    \n",
    "Immutable data types are those whose values cannot be changed after they are created. If you want to modify an immutable object, you actually\n",
    "create a new object.\n",
    "\n",
    "Examples of immutable data types in Python include:\n",
    "    int, float, str, tuple\n",
    "\n",
    "\n"
   ]
  },
  {
   "cell_type": "code",
   "execution_count": 19,
   "id": "ba4292a0-8091-4d50-8982-ecced9aaed5d",
   "metadata": {},
   "outputs": [
    {
     "name": "stdout",
     "output_type": "stream",
     "text": [
      "7\n"
     ]
    }
   ],
   "source": [
    "# for example\n",
    "\n",
    "num = 5\n",
    "new_num = num + 2\n",
    "print( new_num)\n"
   ]
  },
  {
   "cell_type": "code",
   "execution_count": null,
   "id": "688d389d-9f91-4936-a58e-b5d513c4f056",
   "metadata": {},
   "outputs": [],
   "source": [
    "Mutable Data Types:\n",
    "Mutable data types are those whose values can be changed after they are created. This means that the same object can be modified in-place \n",
    "without creating a new object.\n",
    "\n",
    "Examples of mutable data types in Python include:\n",
    "\n",
    "list dict set\n"
   ]
  },
  {
   "cell_type": "code",
   "execution_count": 20,
   "id": "bb7680eb-9e8b-4f0b-b98e-a3d4c4527b83",
   "metadata": {},
   "outputs": [
    {
     "name": "stdout",
     "output_type": "stream",
     "text": [
      "[1, 2, 3, 4]\n"
     ]
    }
   ],
   "source": [
    "# Example of a mutable data type:\n",
    "\n",
    "\n",
    "my_list = [1, 2, 3]\n",
    "my_list.append(4)  \n",
    "print(my_list)"
   ]
  },
  {
   "cell_type": "code",
   "execution_count": null,
   "id": "d66801e7-9214-4ff3-8a9b-e5bb1f3939ac",
   "metadata": {},
   "outputs": [],
   "source": []
  }
 ],
 "metadata": {
  "kernelspec": {
   "display_name": "Python 3 (ipykernel)",
   "language": "python",
   "name": "python3"
  },
  "language_info": {
   "codemirror_mode": {
    "name": "ipython",
    "version": 3
   },
   "file_extension": ".py",
   "mimetype": "text/x-python",
   "name": "python",
   "nbconvert_exporter": "python",
   "pygments_lexer": "ipython3",
   "version": "3.10.8"
  }
 },
 "nbformat": 4,
 "nbformat_minor": 5
}
